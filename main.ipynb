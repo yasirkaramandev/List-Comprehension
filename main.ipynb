{
 "cells": [
  {
   "cell_type": "markdown",
   "metadata": {},
   "source": [
    "# List Comprehension\n",
    "\n",
    "Bu blogta List Comprehension kullanımı ve amaçları hakkında bilgi vereceğim. \n",
    "\n",
    "**İçindekiler**:\n",
    "\n",
    "- [List Comprehension Nedir?](#List-Comprehension-Nedir?)\n",
    "    + [Syntax Kuralları](#syntax-kurallari)\n",
    "    + [İleri Seviye Kullanım](#Ileri-seviye-kullanim)\n",
    "        + [Performans Avantajları](#performans-avantajlari)\n",
    "        + [Okunabilirlik ve Kısalık](#okunabilirlik-ve-kisalik)\n",
    "        + [Karmaşık Veri Yapıları ile Çalışma](#karmasik-veri-yapilari-ile-calisma)\n",
    "- [Uygulama Alanları](#uygulama-alanlari)\n",
    "    - [Veri Analizi ve İşleme](#veri-analizi-ve-isleme)\n",
    "    - [Web Scraping](#web-scraping)\n",
    "    - [Metin İşleme](#metin-i̇şleme)\n",
    "- [Sonuç ve Bitiş](#sonuc-ve-bitis)"
   ]
  },
  {
   "cell_type": "markdown",
   "metadata": {},
   "source": [
    "## List Comprehension Nedir?\n",
    "List Comprehension yazılımdaki uç noktalardan biridir diyebiliriz asıl amacı kısa kod satırlarıyla büyük işler yapmayı sağlamaktır. Bu blogta nasıl yapılacağını iyi bir şekilde öğreneceksiniz! Ufak bir örnek ile başlayalım. cars Listemizdeki araçları içerisinde \"a\" olanları a Listemize ekleyelim. "
   ]
  },
  {
   "cell_type": "code",
   "execution_count": 8,
   "metadata": {},
   "outputs": [
    {
     "name": "stdout",
     "output_type": "stream",
     "text": [
      "['Ferrari', 'Alfa Romeo', 'Audi']\n"
     ]
    }
   ],
   "source": [
    "\n",
    "cars = [\"Porsche\",\"Ferrari\",\"Alfa Romeo\",\"Bentley\",\"Audi\",\"BMW\",\"Mercedes\"]\n",
    "\n",
    "a = []\n",
    "\n",
    "for i in cars:\n",
    "    if \"a\" in i.lower():    # .lower() Büyük harfleri küçüğe çevirmesi için.\n",
    "        a.append(i)\n",
    "\n",
    "print(a)    # Çıktı : ['Ferrari', 'Alfa Romeo', 'Audi']"
   ]
  },
  {
   "cell_type": "markdown",
   "metadata": {},
   "source": [
    "Örnekte içerisinde \"a\" harfi olan bütün araba isimlerini a isimli Listemize attık. Bunu toplamda 3 satırda yaptık evet 3 satır gerçekten az gibi görünüyor ancak bunun başlangıç seviye bir örnek olduğunu unutmayın daha zorlu problemlerde performansı etkileyebilecek kadar büyük sıkıntılar çekebilirsiniz kısaca bu sizi alıştıracak basit bir örnek. Şimdide bu örneğin aynısını List Comprehension ile yapalım."
   ]
  },
  {
   "cell_type": "code",
   "execution_count": 9,
   "metadata": {},
   "outputs": [
    {
     "name": "stdout",
     "output_type": "stream",
     "text": [
      "['Ferrari', 'Alfa Romeo', 'Audi']\n"
     ]
    }
   ],
   "source": [
    "cars = [\"Porsche\",\"Ferrari\",\"Alfa Romeo\",\"Bentley\",\"Audi\",\"BMW\",\"Mercedes\"]\n",
    "\n",
    "a = [i for i in cars if \"a\" in i.lower() ]\n",
    "\n",
    "print(a)    # Çıktı : ['Ferrari', 'Alfa Romeo', 'Audi']"
   ]
  },
  {
   "cell_type": "markdown",
   "metadata": {},
   "source": [
    "Evet ilk List Comprehension örneğimiz. Yazımın bu kısmına kadar daha anlatmaya geçmedim çünkü fikrimce en verimli öğrenme yolu örnek üzerinden öğrenmektir. Kodu incelediğimizde az önce 3 satırda hallettiğimiz kısmı şuan 1 satırda halletmiş olduk. Peki bunu nasıl yaptık? "
   ]
  },
  {
   "cell_type": "markdown",
   "metadata": {},
   "source": [
    "### Syntax Kurallari.\n",
    "Python'da liste üretimleri (List Comprehensions) güçlü ve okunabilir bir yol sağlar. Bu özellik, for döngülerini ve koşullu ifadeleri tek bir satırda kullanarak yeni listeler oluşturmanıza olanak tanır. İşte Python'da liste üretimlerinin temel sözdizimi ve kullanımı:"
   ]
  },
  {
   "cell_type": "code",
   "execution_count": null,
   "metadata": {},
   "outputs": [],
   "source": [
    "[expression for item in iterable]"
   ]
  },
  {
   "cell_type": "markdown",
   "metadata": {},
   "source": [
    "Burada:\n",
    "\n",
    "- **expression**: Her öğe için uygulanacak ifade.\n",
    "- **item**: Döngüdeki her bir öğe.\n",
    "- **iterable**: Üzerinde iterasyon yapılacak koleksiyon (örneğin, bir liste, dizi, set veya sözlük)."
   ]
  },
  {
   "cell_type": "markdown",
   "metadata": {},
   "source": [
    "Basit ama kavrayıcı bir kaç örnek:"
   ]
  },
  {
   "cell_type": "markdown",
   "metadata": {},
   "source": [
    "**Basit Liste Oluşturma**\n",
    "\n",
    "numbers listesindeki her sayının karesini alma işlemi."
   ]
  },
  {
   "cell_type": "code",
   "execution_count": null,
   "metadata": {},
   "outputs": [],
   "source": [
    "numbers = [1, 2, 3, 4, 5]\n",
    "squares = [n**2 for n in numbers]\n",
    "print(squares)  # Çıktı: [1, 4, 9, 16, 25]\n"
   ]
  },
  {
   "cell_type": "markdown",
   "metadata": {},
   "source": [
    "**Koşullu Liste Üretimi**\n",
    "\n",
    "Bu örnekte numbers ta bulunan sayılardan 2 ye bölünenlerin karelerini almaları sağlanır."
   ]
  },
  {
   "cell_type": "code",
   "execution_count": null,
   "metadata": {},
   "outputs": [],
   "source": [
    "numbers = [1, 2, 3, 4, 5]\n",
    "even_squares = [n**2 for n in numbers if n % 2 == 0]\n",
    "print(even_squares)  # Çıktı: [4, 16]\n"
   ]
  },
  {
   "cell_type": "markdown",
   "metadata": {},
   "source": [
    "**İç İçe Döngüler ile Liste Üretimi**\n",
    "\n",
    "Bu örnekte 3x3 lük matrix'i tek bir listeye dönüştürdük."
   ]
  },
  {
   "cell_type": "code",
   "execution_count": 10,
   "metadata": {},
   "outputs": [
    {
     "name": "stdout",
     "output_type": "stream",
     "text": [
      "[1, 2, 3, 4, 5, 6, 7, 8, 9]\n"
     ]
    }
   ],
   "source": [
    "matrix = [[1, 2, 3], [4, 5, 6], [7, 8, 9]]\n",
    "flat_list = [num for row in matrix for num in row]\n",
    "print(flat_list)  # Çıktı: [1, 2, 3, 4, 5, 6, 7, 8, 9]\n"
   ]
  },
  {
   "cell_type": "markdown",
   "metadata": {},
   "source": [
    "**Koşullu İfade ile Liste Üretimi**\n",
    "\n",
    "Bu örnekte sayıların 2 ye bölündüğününü kontrol ediyor eğer 2 ye bölünmüyorsa küpünü alıyor bölünüyorsa karesini alıyor."
   ]
  },
  {
   "cell_type": "code",
   "execution_count": 11,
   "metadata": {},
   "outputs": [
    {
     "name": "stdout",
     "output_type": "stream",
     "text": [
      "[1, 4, 27, 16, 125]\n"
     ]
    }
   ],
   "source": [
    "numbers = [1, 2, 3, 4, 5]\n",
    "result = [n**2 if n % 2 == 0 else n**3 for n in numbers]\n",
    "print(result)  # Çıktı: [1, 4, 27, 16, 125]\n"
   ]
  },
  {
   "cell_type": "markdown",
   "metadata": {},
   "source": [
    "Bu temel örnekler olayı kavramanızda yardımcı olduğunu düşünüyorum bu 4 örnek en çok rastladığımız List Comprehension örnekleridir. Biraz daha derinlemesine bakalım."
   ]
  },
  {
   "cell_type": "markdown",
   "metadata": {},
   "source": [
    "### Ileri Seviye Kullanim.\n",
    "Python'da liste üretimleri (List Comprehensions), ileri düzey kullanımlarda önemli avantajlar ve esneklikler sağlar. Bu teknik, veri işleme, performans iyileştirme ve kod okunabilirliğini artırma gibi birçok alanda kullanılır. İşte ileri düzey kullanımlarının bazı faydaları ve neden tercih edildiklerine dair detaylar:"
   ]
  },
  {
   "cell_type": "markdown",
   "metadata": {},
   "source": [
    "#### Performans Avantajlari\n",
    "\n",
    "Liste üretimleri, genellikle geleneksel döngülere kıyasla daha hızlıdır çünkü döngüler ve liste ekleme işlemleri tek bir ifadede optimize edilir. Bu, özellikle büyük veri kümeleri üzerinde çalışırken önemli performans kazanımları sağlar. Şimdi bunu 2 kod bloğu ile test edelim."
   ]
  },
  {
   "cell_type": "code",
   "execution_count": 5,
   "metadata": {},
   "outputs": [
    {
     "name": "stdout",
     "output_type": "stream",
     "text": [
      "Liste üretimi süresi: 0.014725208282470703\n",
      "Geleneksel döngü süresi: 0.014369010925292969\n",
      "Liste Üretim - Geleneksel Döngü =  0.0003561973571777344\n"
     ]
    }
   ],
   "source": [
    "import time\n",
    "\n",
    "# Büyük bir liste oluşturma\n",
    "large_list = list(range(100000))\n",
    "\n",
    "# Liste üretimi ile zaman ölçümü\n",
    "start_time = time.time()\n",
    "squares = [x**2 for x in large_list]\n",
    "end_time = time.time()\n",
    "liste_sure = end_time - start_time\n",
    "print(\"Liste üretimi süresi:\", liste_sure)\n",
    "\n",
    "# Geleneksel döngü ile zaman ölçümü\n",
    "start_time = time.time()\n",
    "squares = []\n",
    "for x in large_list:\n",
    "    squares.append(x**2)\n",
    "end_time = time.time()\n",
    "geleneksel_sure = end_time - start_time\n",
    "print(\"Geleneksel döngü süresi:\", geleneksel_sure)\n",
    "\n",
    "print(\"Liste Üretim - Geleneksel Döngü = \", liste_sure - geleneksel_sure)\n"
   ]
  },
  {
   "cell_type": "markdown",
   "metadata": {},
   "source": [
    "#### Okunabilirlik ve Kisalik\n",
    "\n",
    "Liste üretimleri, karmaşık döngü ve koşul yapılarının tek bir satırda yazılmasına olanak tanır, bu da kodun daha kısa ve okunabilir olmasını sağlar."
   ]
  },
  {
   "cell_type": "code",
   "execution_count": 1,
   "metadata": {},
   "outputs": [
    {
     "name": "stdout",
     "output_type": "stream",
     "text": [
      "[0, 4, 16, 36, 64]\n",
      "[0, 4, 16, 36, 64]\n"
     ]
    }
   ],
   "source": [
    "# Geleneksel döngü\n",
    "result = []\n",
    "for x in range(10):\n",
    "    if x % 2 == 0:\n",
    "        result.append(x**2)\n",
    "print(result)  # Çıktı: [0, 4, 16, 36, 64]\n",
    "\n",
    "# Liste üretimi ile\n",
    "result = [x**2 for x in range(10) if x % 2 == 0]\n",
    "print(result)  # Çıktı: [0, 4, 16, 36, 64]\n"
   ]
  },
  {
   "cell_type": "markdown",
   "metadata": {},
   "source": [
    "#### Karmasik Veri Yapilari ile Calisma\n",
    "Liste üretimleri, iç içe geçmiş veri yapıları (örneğin, listeler, sözlükler) ile etkili bir şekilde çalışmak için kullanılabilir. Bu, çok boyutlu verileri düzleştirmek veya filtrelemek için idealdir."
   ]
  },
  {
   "cell_type": "code",
   "execution_count": null,
   "metadata": {},
   "outputs": [],
   "source": [
    "# 2 boyutlu listeyi düzleştirme\n",
    "matrix = [[1, 2, 3], [4, 5, 6], [7, 8, 9]]\n",
    "flat_list = [item for sublist in matrix for item in sublist]\n",
    "print(flat_list)  # Çıktı: [1, 2, 3, 4, 5, 6, 7, 8, 9]\n",
    "\n",
    "# Sözlük içindeki değerlere uygulama\n",
    "dict_data = {'a': 1, 'b': 2, 'c': 3}\n",
    "squared_values = {k: v**2 for k, v in dict_data.items()}\n",
    "print(squared_values)  # Çıktı: {'a': 1, 'b': 4, 'c': 9}\n"
   ]
  },
  {
   "cell_type": "markdown",
   "metadata": {},
   "source": [
    "## Uygulama Alanlari.\n",
    "List Comprehensions, Python programlamada geniş bir kullanım alanına sahiptir ve çeşitli uygulamalarda önemli avantajlar sunar. İşte List Comprehensions'ın öne çıktığı bazı yaygın uygulama alanları:\n",
    "\n",
    "### Veri Analizi ve Isleme\n",
    "\n",
    "Veri analizi ve işleme, List Comprehensions'ın en yaygın kullanıldığı alanlardan biridir. Büyük veri setleri üzerinde hızlı ve etkili bir şekilde işlem yapmayı sağlar. Verilerin filtrelenmesi, dönüştürülmesi ve özetlenmesi gibi işlemler, List Comprehensions kullanılarak daha kısa ve okunabilir kodlarla gerçekleştirilebilir."
   ]
  },
  {
   "cell_type": "code",
   "execution_count": null,
   "metadata": {},
   "outputs": [],
   "source": [
    "# Yaş verilerinin olduğu bir liste\n",
    "ages = [15, 23, 42, 18, 36, 27, 19]\n",
    "\n",
    "# 18 yaş üstündekileri filtreleme\n",
    "adults = [age for age in ages if age >= 18]\n",
    "print(adults)  # Çıktı: [23, 42, 18, 36, 27, 19]\n"
   ]
  },
  {
   "cell_type": "markdown",
   "metadata": {},
   "source": [
    "Bu örnekte, yaş listesinde 18 yaş ve üzerindeki bireyler filtrelenerek yeni bir liste oluşturuluyor. Bu tür işlemler, büyük veri setleri üzerinde çalışırken çok daha karmaşık olabilir ve List Comprehensions, bu tür durumlarda kodun kısa ve etkili olmasını sağlar."
   ]
  },
  {
   "cell_type": "markdown",
   "metadata": {},
   "source": [
    "### Web Scraping\n",
    "Web scraping, web sayfalarından veri toplama işlemidir ve List Comprehensions, çekilen verileri temizlemek ve düzenlemek için ideal bir araçtır. HTML veya XML gibi yapılandırılmış veriler üzerinde işlem yaparak, gerekli bilgileri hızlı ve verimli bir şekilde elde etmenizi sağlar."
   ]
  },
  {
   "cell_type": "code",
   "execution_count": null,
   "metadata": {},
   "outputs": [],
   "source": [
    "import requests\n",
    "from bs4 import BeautifulSoup\n",
    "\n",
    "# Bir web sayfasından veri çekme\n",
    "response = requests.get('https://example.com')\n",
    "soup = BeautifulSoup(response.text, 'html.parser')\n",
    "\n",
    "# Sayfadaki tüm bağlantıları listeleme\n",
    "links = [a['href'] for a in soup.find_all('a', href=True)]\n",
    "print(links)\n"
   ]
  },
  {
   "cell_type": "markdown",
   "metadata": {},
   "source": [
    "Bu örnekte, requests ve BeautifulSoup kullanılarak bir web sayfasından tüm bağlantılar (linkler) çekiliyor ve List Comprehensions ile bu bağlantılar bir listeye ekleniyor. Bu, veri toplama ve temizleme işlemlerini basitleştirir ve hızlandırır."
   ]
  },
  {
   "cell_type": "markdown",
   "metadata": {},
   "source": [
    "### Metin İşleme\n",
    "Metin verilerini işlerken, List Comprehensions kullanarak metinleri temizlemek, filtrelemek ve dönüştürmek mümkündür. Bu, özellikle doğal dil işleme (NLP) ve veri temizleme süreçlerinde çok faydalıdır.\n",
    "\n"
   ]
  },
  {
   "cell_type": "code",
   "execution_count": 1,
   "metadata": {},
   "outputs": [
    {
     "name": "stdout",
     "output_type": "stream",
     "text": [
      "['hello world', 'python is great', 'list comprehensions are powerful']\n"
     ]
    }
   ],
   "source": [
    "# Metinlerin olduğu bir liste\n",
    "texts = [\"Hello World!\", \"Python is great.\", \"List comprehensions are powerful.\"]\n",
    "\n",
    "# Metinleri küçük harfe çevirme ve noktalama işaretlerini kaldırma\n",
    "cleaned_texts = [''.join(char.lower() for char in text if char.isalnum() or char.isspace()) for text in texts]\n",
    "print(cleaned_texts)\n",
    "# Çıktı: ['hello world', 'python is great', 'list comprehensions are powerful']\n"
   ]
  },
  {
   "cell_type": "markdown",
   "metadata": {},
   "source": [
    "Bu örnekte, metinler küçük harfe dönüştürülüp noktalama işaretlerinden arındırılarak temizleniyor. Metin işleme işlemlerinde List Comprehensions kullanarak daha kısa ve anlaşılır kodlar yazabilirsiniz."
   ]
  },
  {
   "cell_type": "markdown",
   "metadata": {},
   "source": [
    "## Sonuc ve Bitis\n",
    "List Comprehensions, Python'da çeşitli alanlarda kodun daha verimli ve okunabilir olmasını sağlar. Veri analizi, web scraping, bilimsel hesaplamalar ve metin işleme gibi çeşitli uygulamalarda kullanım kolaylığı sunar. Bu sayede, karmaşık işlemleri daha az kodla gerçekleştirebilir ve performans avantajları elde edebilirsiniz. List Comprehensions kullanarak Python'da daha etkili ve okunabilir kodlar yazabilirsiniz, bu da projelerinizde daha hızlı ve verimli sonuçlar almanıza yardımcı olur.\n",
    "\n",
    "List Comprehensions'ın sunduğu kısa ve anlaşılır kod yazma yeteneği, Python'un gücünü ve esnekliğini artırır. Veri işleme ve analizden web scraping'e, bilimsel hesaplamalardan metin işlemeye kadar birçok alanda List Comprehensions'ın avantajlarından yararlanabilirsiniz. Bu teknik, Python programlamada ustalaşmanıza ve daha temiz, daha etkili kodlar yazmanıza yardımcı olacaktır.\n",
    "\n",
    "Başka yazılarda görüşmek üzere! [Yasir Karaman](https://yasirkaraman.medium.com/)"
   ]
  }
 ],
 "metadata": {
  "kernelspec": {
   "display_name": "Python 3",
   "language": "python",
   "name": "python3"
  },
  "language_info": {
   "codemirror_mode": {
    "name": "ipython",
    "version": 3
   },
   "file_extension": ".py",
   "mimetype": "text/x-python",
   "name": "python",
   "nbconvert_exporter": "python",
   "pygments_lexer": "ipython3",
   "version": "3.11.4"
  }
 },
 "nbformat": 4,
 "nbformat_minor": 2
}
